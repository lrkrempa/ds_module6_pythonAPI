{
 "cells": [
  {
   "cell_type": "markdown",
   "metadata": {},
   "source": [
    "# VacationPy\n",
    "---\n",
    "\n",
    "## Starter Code to Import Libraries and Load the Weather and Coordinates Data"
   ]
  },
  {
   "cell_type": "code",
   "execution_count": null,
   "metadata": {},
   "outputs": [],
   "source": [
    "# Dependencies and Setup\n",
    "import hvplot.pandas\n",
    "import pandas as pd\n",
    "import numpy\n",
    "\n",
    "import matplotlib.pyplot as plt\n",
    "import requests\n",
    "\n",
    "# Import API key\n",
    "from api_keys_krempa import geoapify_key"
   ]
  },
  {
   "cell_type": "code",
   "execution_count": null,
   "metadata": {},
   "outputs": [],
   "source": [
    "# Load the CSV file created in Part 1 into a Pandas DataFrame\n",
    "city_data_df = pd.read_csv(\"../output_data/cities.csv\")\n",
    "\n",
    "# Display sample data\n",
    "city_data_df.head()"
   ]
  },
  {
   "cell_type": "code",
   "execution_count": null,
   "metadata": {},
   "outputs": [],
   "source": [
    "city_data_df.info()"
   ]
  },
  {
   "cell_type": "code",
   "execution_count": null,
   "metadata": {},
   "outputs": [],
   "source": [
    "df= city_data_df.dropna(how=\"any\").reset_index(drop=True)\n",
    "df.info()"
   ]
  },
  {
   "cell_type": "markdown",
   "metadata": {},
   "source": [
    "---\n",
    "\n",
    "### Step 1: Create a map that displays a point for every city in the `city_data_df` DataFrame. The size of the point should be the humidity in each city."
   ]
  },
  {
   "cell_type": "code",
   "execution_count": null,
   "metadata": {},
   "outputs": [],
   "source": [
    "%%capture --no-display\n",
    "\n",
    "# Configure the map plot\n",
    "map_plot_1 = df.hvplot.points(\n",
    "    \"Lng\",\n",
    "    \"Lat\",\n",
    "    geo = True,\n",
    "    tiles = \"OSM\",\n",
    "    frame_width = 700,\n",
    "    frame_height = 500, \n",
    "    size = \"Humidity\",\n",
    "    color = \"City\"\n",
    ")\n",
    "\n",
    "# Display the map\n",
    "map_plot_1"
   ]
  },
  {
   "cell_type": "markdown",
   "metadata": {},
   "source": [
    "### Step 2: Narrow down the `city_data_df` DataFrame to find your ideal weather condition"
   ]
  },
  {
   "cell_type": "code",
   "execution_count": null,
   "metadata": {},
   "outputs": [],
   "source": [
    "# Narrow down cities that fit criteria and drop any results with null values\n",
    "mask = (df[\"Max Temp\"] > 65) & (df[\"Max Temp\"] < 80) & (df[\"Wind Speed\"] < 10) & (df[\"Cloudiness\"]==0)\n",
    "\n",
    "# Drop any rows with null values\n",
    "df2= df.loc[mask]\n",
    "\n",
    "# Display sample data\n",
    "df2"
   ]
  },
  {
   "cell_type": "markdown",
   "metadata": {},
   "source": [
    "### Step 3: Create a new DataFrame called `hotel_df`."
   ]
  },
  {
   "cell_type": "markdown",
   "metadata": {},
   "source": [
    "### Step 4: For each city, use the Geoapify API to find the first hotel located within 10,000 metres of your coordinates."
   ]
  },
  {
   "cell_type": "code",
   "execution_count": null,
   "metadata": {},
   "outputs": [],
   "source": [
    "latitude = -17.8000\n",
    "longitude = -63.1667\n",
    "\n",
    "# Set base URL\n",
    "base_url = \"https://api.geoapify.com/v2/places\"\n",
    "\n",
    "\n",
    "# Set the parameters for the type of place\n",
    "categories = \"acommodation.hotel\"\n",
    "radius = 10000\n",
    "\n",
    "# Set the parameters for the type of search\n",
    "filters = f\"circle:{longitude},{latitude},{radius}\"\n",
    "bias = f\"proximity:{longitude},{latitude}\"\n",
    "limit = 20\n",
    "\n",
    "# set up a parameters dictionary\n",
    "params = {\n",
    "    \"categories\":categories,\n",
    "    \"limit\":limit,\n",
    "    \"filter\": filters,\n",
    "    \"bias\":bias,\n",
    "    \"apiKey\":geoapify_key    \n",
    "}\n",
    "\n",
    "response = requests.get(base_url, params=params)\n",
    "\n",
    "status_code = response.status_code\n",
    "\n",
    "if status_code == 200:\n",
    "    data = response.json()\n",
    "else:\n",
    "    data = {}\n",
    "\n",
    "results = data.get(\"features\", [])\n",
    "\n",
    "if len(results) > 0:\n",
    "    result = results[0]\n",
    "else:\n",
    "    result = {}\n",
    "\n",
    "properties = result.get(\"properties\", {})\n",
    "\n",
    "state = properties.get(\"state\")\n",
    "country = properties.get(\"country\")\n",
    "city = properties.get(\"city\")\n",
    "lon = properties.get(\"lon\")\n",
    "lat = properties.get(\"lat\")\n",
    "address = properties.get(\"formatted\")\n",
    "distance = properties.get(\"distance\")\n",
    "\n",
    "row = {\n",
    "    \"address\" : address,\n",
    "    \"state\" : state, \n",
    "    \"country\" : country,\n",
    "    \"city\" : city, \n",
    "    \"longitude\" : lon, \n",
    "    \"latitude\" : lat,\n",
    "    \"distance\": distance\n",
    "}\n",
    "\n",
    "row    "
   ]
  },
  {
   "cell_type": "code",
   "execution_count": null,
   "metadata": {},
   "outputs": [],
   "source": [
    "rows = []\n",
    "\n",
    "for index, row in df2.iterrows():\n",
    "    latitude = row.Lat\n",
    "    longitude = row.Lng\n",
    "    humidity = row.Humidity\n",
    "    orig_city = row.City\n",
    "\n",
    "    # Set base URL\n",
    "    base_url = \"https://api.geoapify.com/v2/places\"\n",
    "\n",
    "\n",
    "    # Set the parameters for the type of place\n",
    "    categories = \"acommodation.hotel\"\n",
    "    radius = 10000\n",
    "\n",
    "    # Set the parameters for the type of search\n",
    "    filters = f\"circle:{longitude},{latitude},{radius}\"\n",
    "    bias = f\"proximity:{longitude},{latitude}\"\n",
    "    limit = 20\n",
    "\n",
    "    # set up a parameters dictionary\n",
    "    params = {\n",
    "        \"categories\":categories,\n",
    "        \"limit\":limit,\n",
    "        \"filter\": filters,\n",
    "        \"bias\":bias,\n",
    "        \"apiKey\":geoapify_key    \n",
    "    }\n",
    "\n",
    "    response = requests.get(base_url, params=params)\n",
    "\n",
    "    status_code = response.status_code\n",
    "\n",
    "    if status_code == 200:\n",
    "        data = response.json()\n",
    "    else:\n",
    "        data = {}\n",
    "\n",
    "    results = data.get(\"features\", [])\n",
    "\n",
    "    if len(results) > 0:\n",
    "        result = results[0]\n",
    "    else:\n",
    "        result = {}\n",
    "\n",
    "    properties = result.get(\"properties\", {})\n",
    "\n",
    "    state = properties.get(\"state\")\n",
    "    country = properties.get(\"country\")\n",
    "    city = properties.get(\"city\")\n",
    "    address = properties.get(\"formatted\")\n",
    "    distance = properties.get(\"distance\")\n",
    "    name = properties.get(\"name\")\n",
    "\n",
    "    row = {\n",
    "        \"original_city\" : orig_city,\n",
    "        \"longitude\" : longitude, \n",
    "        \"latitude\" : latitude,\n",
    "        \"humidity\" : humidity,\n",
    "        \"hotel\": name,\n",
    "        \"address\" : address,\n",
    "        \"state\" : state, \n",
    "        \"country\" : country,\n",
    "        \"city\" : city, \n",
    "        \"distance\": distance\n",
    "    }\n",
    "\n",
    "    print(orig_city)\n",
    "    \n",
    "rows.append(row)"
   ]
  },
  {
   "cell_type": "code",
   "execution_count": null,
   "metadata": {},
   "outputs": [],
   "source": [
    "hotel_df = pd.DataFrame(rows)\n",
    "hotel_df"
   ]
  },
  {
   "cell_type": "code",
   "execution_count": null,
   "metadata": {},
   "outputs": [],
   "source": [
    "hotel_df = hotel_df.dropna(how=\"any\").reset_index(drop=True)"
   ]
  },
  {
   "cell_type": "markdown",
   "metadata": {},
   "source": [
    "### Step 5: Add the hotel name and the country as additional information in the hover message for each city in the map."
   ]
  },
  {
   "cell_type": "code",
   "execution_count": null,
   "metadata": {},
   "outputs": [],
   "source": [
    "%%capture --no-display\n",
    "\n",
    "# Configure the map plot\n",
    "map_plot_2 = hotel_df.hvplot.points(\n",
    "    \"longitude\",\n",
    "    \"latitude\",\n",
    "    geo = True,\n",
    "    tiles = \"OSM\",\n",
    "    frame_width = 700,\n",
    "    frame_height = 500, \n",
    "    size = \"humidity\",\n",
    "    color = \"city\",\n",
    "    hover_cols = [\"address\"]\n",
    ")\n",
    "\n",
    "# Display the map\n",
    "map_plot_2"
   ]
  }
 ],
 "metadata": {
  "kernelspec": {
   "display_name": "Python 3 (ipykernel)",
   "language": "python",
   "name": "python3"
  },
  "language_info": {
   "codemirror_mode": {
    "name": "ipython",
    "version": 3
   },
   "file_extension": ".py",
   "mimetype": "text/x-python",
   "name": "python",
   "nbconvert_exporter": "python",
   "pygments_lexer": "ipython3",
   "version": "3.10.14"
  },
  "latex_envs": {
   "LaTeX_envs_menu_present": true,
   "autoclose": false,
   "autocomplete": true,
   "bibliofile": "biblio.bib",
   "cite_by": "apalike",
   "current_citInitial": 1,
   "eqLabelWithNumbers": true,
   "eqNumInitial": 1,
   "hotkeys": {
    "equation": "Ctrl-E",
    "itemize": "Ctrl-I"
   },
   "labels_anchors": false,
   "latex_user_defs": false,
   "report_style_numbering": false,
   "user_envs_cfg": false
  }
 },
 "nbformat": 4,
 "nbformat_minor": 4
}
